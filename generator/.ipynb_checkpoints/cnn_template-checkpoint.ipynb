{
 "cells": [
  {
   "cell_type": "markdown",
   "metadata": {
    "Collapsed": "true"
   },
   "source": [
    "## Main Imports"
   ]
  },
  {
   "cell_type": "code",
   "execution_count": null,
   "metadata": {
    "Collapsed": "false"
   },
   "outputs": [],
   "source": [
    "import torch\n",
    "import numpy as np\n",
    "import matplotlib.pyplot as plt"
   ]
  },
  {
   "cell_type": "code",
   "execution_count": null,
   "metadata": {
    "Collapsed": "false"
   },
   "outputs": [],
   "source": [
    "from tensorboardX import SummaryWriter"
   ]
  },
  {
   "cell_type": "markdown",
   "metadata": {
    "Collapsed": "true"
   },
   "source": [
    "## Tools: CNN Dims "
   ]
  },
  {
   "cell_type": "code",
   "execution_count": 67,
   "metadata": {
    "Collapsed": "false"
   },
   "outputs": [],
   "source": [
    "from numpy import floor"
   ]
  },
  {
   "cell_type": "code",
   "execution_count": 78,
   "metadata": {
    "Collapsed": "false"
   },
   "outputs": [],
   "source": [
    "def conv2d(height, width, kernel, stride=(1,1)):\n",
    "    '''\n",
    "    returns the spatial dims of conv or max pooling\n",
    "    '''\n",
    "    return  int(floor((height - kernel)/stride[0] + 1))  , \\\n",
    "            int(floor((width - kernel )/stride[1]) + 1)"
   ]
  },
  {
   "cell_type": "code",
   "execution_count": 110,
   "metadata": {
    "Collapsed": "false"
   },
   "outputs": [
    {
     "name": "stdout",
     "output_type": "stream",
     "text": [
      "62 254\n",
      "29 125\n",
      "16 38\n",
      "1 8\n"
     ]
    }
   ],
   "source": [
    "height, width = (64, 256)\n",
    "kernels = [3,5,14,16]\n",
    "strides = [(1,1),(2,2),(1,3),(1,3)]\n",
    "\n",
    "for n in range(len(kernels)):\n",
    "    \n",
    "    k = kernels[n]\n",
    "    stride = strides[n]\n",
    "    \n",
    "    height, width =conv2d(height,width, k, stride)\n",
    "    print(height, width)\n"
   ]
  },
  {
   "cell_type": "markdown",
   "metadata": {
    "Collapsed": "true"
   },
   "source": [
    "## Network Definition"
   ]
  },
  {
   "cell_type": "code",
   "execution_count": 1,
   "metadata": {
    "Collapsed": "false"
   },
   "outputs": [],
   "source": [
    "#Helper to count params\n",
    "def count_parameters(model):\n",
    "    return sum(p.numel() for p in model.parameters() if p.requires_grad)"
   ]
  },
  {
   "cell_type": "code",
   "execution_count": null,
   "metadata": {
    "Collapsed": "false"
   },
   "outputs": [],
   "source": [
    "class CNN_Model(torch.nn.Module):\n",
    "    '''\n",
    "    img format required by pytorch \n",
    "    (N_batch,channels,Height,Width)\n",
    "    '''\n",
    "    \n",
    "    def __init__(self):\n",
    "        super(OCR_CNN, self).__init__()\n",
    "               \n",
    "        \n",
    "        kernels = [3,5,14,16]\n",
    "        strides = [(1,1),(2,2),(1,3),(1,3)]\n",
    "        filters = [4,4,6,8,10] # filters should grow exp?\n",
    "        \n",
    "        # conv blocks\n",
    "        self.conv = []\n",
    "        \n",
    "        for n in range(0,len(kernels)):    \n",
    "            self.conv.append(\n",
    "                torch.nn.Conv2d(filters[n], filters[n+1], kernels[n], stride=strides[n])\n",
    "            )\n",
    "        \n",
    "        # activation\n",
    "        self.activation = torch.nn.ReLU()\n",
    "        self.softmax = torch.nn.Softmax(dim=1)# after squezze channels are the second, third is position\n",
    "    \n",
    "        \n",
    "    def forward(self, x):\n",
    "        # incoming format: N_batch,Height,Width,channels\n",
    "        # permute to:      N_batch,channels,Height,Width\n",
    "        x = x.permute((0,3,1,2))\n",
    "        \n",
    "        \n",
    "        for conv in self.conv[0:-1]:\n",
    "            x = conv(x)\n",
    "            x = self.activation(x)\n",
    "        \n",
    "        x = self.conv[-1](x) # last conv \n",
    "        \n",
    "        # height dim (1st) is 1, so contract\n",
    "        x = torch.squeeze(x, 2) # [batch, n_filters, 1 vertical, 8 horizontal pos]       \n",
    "        \n",
    "        x = self.softmax(x) # [softmax over n_filters i.e. char probs]\n",
    "#         pdb.set_trace()\n",
    "        \n",
    "        return x"
   ]
  },
  {
   "cell_type": "markdown",
   "metadata": {
    "Collapsed": "false"
   },
   "source": [
    "## Monitoring tools"
   ]
  },
  {
   "cell_type": "markdown",
   "metadata": {
    "Collapsed": "true"
   },
   "source": [
    "### TensorboardX"
   ]
  },
  {
   "cell_type": "code",
   "execution_count": null,
   "metadata": {
    "Collapsed": "false"
   },
   "outputs": [],
   "source": [
    "from tensorboardX import SummaryWriter\n",
    "\n",
    "#Set up Tensorboard writer for current test\n",
    "writer = SummaryWriter(log_dir=\"./summary\")\n",
    "\n",
    "# writer.add_scalar(\"total_loss\", ave_total_loss.average(), n_iter) \n",
    "# writer.add_scalar(\"CER\", CER_total.average(), n_iter)\n",
    "# writer.add_scalar(\"lr\",lr,n_iter)"
   ]
  },
  {
   "cell_type": "markdown",
   "metadata": {
    "Collapsed": "true"
   },
   "source": [
    "### Memory managment: "
   ]
  },
  {
   "cell_type": "code",
   "execution_count": null,
   "metadata": {
    "Collapsed": "false"
   },
   "outputs": [],
   "source": [
    "# pip install memory-profiler\n",
    "# !mprof run train.py"
   ]
  },
  {
   "cell_type": "markdown",
   "metadata": {
    "Collapsed": "false"
   },
   "source": [
    "TODO: find a proper way to log decorated functions in jupyter"
   ]
  },
  {
   "cell_type": "markdown",
   "metadata": {
    "Collapsed": "true"
   },
   "source": [
    "## Generators"
   ]
  },
  {
   "cell_type": "markdown",
   "metadata": {
    "Collapsed": "false"
   },
   "source": [
    "### Generator tools"
   ]
  },
  {
   "cell_type": "markdown",
   "metadata": {
    "Collapsed": "false"
   },
   "source": [
    "### Generator\n"
   ]
  },
  {
   "cell_type": "code",
   "execution_count": null,
   "metadata": {
    "Collapsed": "false"
   },
   "outputs": [],
   "source": [
    "n_chars_dict = 10\n",
    "n_chars = 8\n",
    "BATCH_SIZE = 2\n",
    "\n",
    "def generator(char_img, epoch_size = 100, batch_size = 2):\n",
    "    '''\n",
    "    generator template\n",
    "    '''\n",
    "    \n",
    "    for N in range(epoch_size):\n",
    "        y_gt = np.zeros((batch_size, n_chars_dict, n_chars))\n",
    "        imgs = [] \n",
    "        for N in range(batch_size):\n",
    "            pass\n",
    "    \n",
    "        # yield batch\n",
    "        yield imgs, y_gt\n",
    "        "
   ]
  },
  {
   "cell_type": "markdown",
   "metadata": {
    "Collapsed": "false"
   },
   "source": [
    "### Definitions and tests\n"
   ]
  },
  {
   "cell_type": "markdown",
   "metadata": {
    "Collapsed": "false"
   },
   "source": [
    "## Learning loop"
   ]
  },
  {
   "cell_type": "code",
   "execution_count": null,
   "metadata": {
    "Collapsed": "false"
   },
   "outputs": [],
   "source": []
  }
 ],
 "metadata": {
  "kernelspec": {
   "display_name": "Python 3",
   "language": "python",
   "name": "python3"
  },
  "language_info": {
   "codemirror_mode": {
    "name": "ipython",
    "version": 3
   },
   "file_extension": ".py",
   "mimetype": "text/x-python",
   "name": "python",
   "nbconvert_exporter": "python",
   "pygments_lexer": "ipython3",
   "version": "3.7.3"
  }
 },
 "nbformat": 4,
 "nbformat_minor": 4
}
