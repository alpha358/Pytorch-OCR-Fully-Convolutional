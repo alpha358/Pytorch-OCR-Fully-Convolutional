{
 "cells": [
  {
   "cell_type": "markdown",
   "metadata": {
    "Collapsed": "false"
   },
   "source": [
    "## imports"
   ]
  },
  {
   "cell_type": "code",
   "execution_count": 1,
   "metadata": {
    "Collapsed": "false"
   },
   "outputs": [],
   "source": [
    "import matplotlib.pyplot as plt\n",
    "import numpy as np \n",
    "import cv2"
   ]
  },
  {
   "cell_type": "markdown",
   "metadata": {
    "Collapsed": "false"
   },
   "source": [
    "## Read imgs"
   ]
  },
  {
   "cell_type": "code",
   "execution_count": 2,
   "metadata": {
    "Collapsed": "false"
   },
   "outputs": [],
   "source": [
    "# construct the dict of imgs"
   ]
  },
  {
   "cell_type": "code",
   "execution_count": 3,
   "metadata": {
    "Collapsed": "false"
   },
   "outputs": [],
   "source": [
    "from glob import glob"
   ]
  },
  {
   "cell_type": "markdown",
   "metadata": {
    "Collapsed": "false"
   },
   "source": [
    "## Generate text example"
   ]
  },
  {
   "cell_type": "markdown",
   "metadata": {
    "Collapsed": "false"
   },
   "source": [
    "### Read images "
   ]
  },
  {
   "cell_type": "code",
   "execution_count": 4,
   "metadata": {
    "Collapsed": "false"
   },
   "outputs": [],
   "source": [
    "from collections import defaultdict"
   ]
  },
  {
   "cell_type": "code",
   "execution_count": 5,
   "metadata": {
    "Collapsed": "false"
   },
   "outputs": [],
   "source": [
    "def get_imgs_dict(path='img/numbers/'):\n",
    "    \n",
    "    char_img_paths = {}\n",
    "    \n",
    "    chars = ['-','.', '0', '1', '2', '3', '4', '5', '6', '7', '8', '9' ]\n",
    "    \n",
    "    for c in chars:\n",
    "        char_img_paths[c] = glob(path + c +'*')\n",
    "    \n",
    "    \n",
    "    char_img = defaultdict(list)\n",
    "\n",
    "    for char, paths in char_img_paths.items():\n",
    "        for path in paths:\n",
    "            char_img[char].append( \n",
    "                cv2.cvtColor(\n",
    "                    cv2.imread(path, cv2.IMREAD_UNCHANGED),\n",
    "                cv2.COLOR_BGRA2RGBA\n",
    "                )\n",
    "            )\n",
    "    return char_img"
   ]
  },
  {
   "cell_type": "code",
   "execution_count": 6,
   "metadata": {
    "Collapsed": "false"
   },
   "outputs": [],
   "source": [
    "char_img = get_imgs_dict('img/numbers/')\n",
    "char_img_test = get_imgs_dict('img/numbers_test/')"
   ]
  },
  {
   "cell_type": "markdown",
   "metadata": {
    "Collapsed": "false"
   },
   "source": [
    "### Paste images"
   ]
  },
  {
   "cell_type": "code",
   "execution_count": 7,
   "metadata": {
    "Collapsed": "false"
   },
   "outputs": [],
   "source": [
    "def superimpose_img(background, img, topleft, char_size=(32,64)):\n",
    "    '''\n",
    "    background --- 4 chnl background\n",
    "    img        --- the imge to be superimposed\n",
    "    '''\n",
    "    img = cv2.resize(img, char_size, interpolation=cv2.INTER_CUBIC)\n",
    "    \n",
    "    # use alpha channel to kill background \n",
    "    alpha = np.expand_dims(img[:,:,3], axis=2)\n",
    "    alpha = alpha / np.max(alpha)\n",
    "    img = img * alpha\n",
    "    \n",
    "    \n",
    "    \n",
    "    top, left = topleft\n",
    "    height, width, _ = img.shape\n",
    "    \n",
    "    # remove the background where the symbol must be\n",
    "    background[top:top + height, left:left+width] *= (1-alpha)\n",
    "    \n",
    "    # superimpose the image onto background\n",
    "    background[top:top + height, left:left+width] += img\n",
    "    \n",
    "    return np.asarray(background, dtype = np.int32)"
   ]
  },
  {
   "cell_type": "code",
   "execution_count": 8,
   "metadata": {
    "Collapsed": "false"
   },
   "outputs": [],
   "source": [
    "n_characters = 8\n",
    "char_width = 32\n",
    "char_height = 64\n",
    "spacing = 32\n",
    "\n",
    "def random_stamp_numbers(char_img):\n",
    "    '''\n",
    "    Generate an image of random numbers drawn from img/numbers folder\n",
    "    '''\n",
    "    \n",
    "    background = np.ones((char_height, n_characters*char_width, 4))*255\n",
    "    \n",
    "    text = [] # GT text\n",
    "    \n",
    "    for n in range(8):\n",
    "        number = np.random.randint(0, 9)\n",
    "        char = str(number)\n",
    "        text.append(char)\n",
    "        \n",
    "        # select the character example\n",
    "        n_examples = len(char_img[char])\n",
    "        if n_examples > 1:\n",
    "            example_idx = np.random.randint(0, n_examples-1 )\n",
    "        else:\n",
    "            example_idx = 0\n",
    "        \n",
    "        \n",
    "        img2 = superimpose_img(background, char_img[char][example_idx], (0,spacing*n))\n",
    "        \n",
    "        # rgba to rgb       \n",
    "        img2 = cv2.cvtColor(np.uint8(img2), cv2.COLOR_RGBA2RGB)\n",
    "        \n",
    "    return img2, text\n",
    "\n",
    "# plt.imshow(img2)\n",
    "# plt.show()"
   ]
  },
  {
   "cell_type": "code",
   "execution_count": 9,
   "metadata": {
    "Collapsed": "false"
   },
   "outputs": [],
   "source": [
    "# plt.imshow(char_img['4'][0][:,:, 3])"
   ]
  },
  {
   "cell_type": "code",
   "execution_count": 10,
   "metadata": {
    "Collapsed": "false"
   },
   "outputs": [
    {
     "name": "stdout",
     "output_type": "stream",
     "text": [
      "['0', '4', '5', '3', '8', '1', '8', '5']\n"
     ]
    },
    {
     "data": {
      "image/png": "[encoded data removed]",
      "text/plain": [
       "<Figure size 432x288 with 1 Axes>"
      ]
     },
     "metadata": {
      "needs_background": "light"
     },
     "output_type": "display_data"
    }
   ],
   "source": [
    "img, text = random_stamp_numbers(char_img_test)\n",
    "plt.imshow(img)\n",
    "print(text)"
   ]
  },
  {
   "cell_type": "markdown",
   "metadata": {
    "Collapsed": "false"
   },
   "source": [
    "## Generator"
   ]
  },
  {
   "cell_type": "code",
   "execution_count": 11,
   "metadata": {
    "Collapsed": "false"
   },
   "outputs": [],
   "source": [
    "text_to_idx ={\n",
    "    '0':0, '1':1, '2':2, '3':3, '4':4, '5':5, '6':6, '7':7, '8':8, '9':9,\n",
    "#     '-','.' \n",
    "}"
   ]
  },
  {
   "cell_type": "code",
   "execution_count": 12,
   "metadata": {
    "Collapsed": "false"
   },
   "outputs": [],
   "source": [
    "def text_to_y(y, text, N):\n",
    "    '''\n",
    "    y[batch_idx, character class, character position]\n",
    "    convert chars list (text) to oht\n",
    "    n --- batch idx\n",
    "    '''\n",
    "    for n in len(text):\n",
    "        y[N, text_to_idx[text[n]], n]=1\n",
    "    "
   ]
  },
  {
   "cell_type": "code",
   "execution_count": 13,
   "metadata": {
    "Collapsed": "false"
   },
   "outputs": [],
   "source": [
    "n_chars_dict = 10\n",
    "n_chars = 8\n",
    "BATCH_SIZE = 2\n",
    "\n",
    "def generator(char_img, epoch_size = 100, batch_size = 2):\n",
    "    '''\n",
    "    char_img --- images of characters\n",
    "    '''\n",
    "    \n",
    "    \n",
    "    \n",
    "    for N in range(epoch_size):\n",
    "        y_gt = np.zeros((batch_size, n_chars_dict, n_chars))\n",
    "        imgs = [] \n",
    "        for N in range(batch_size):\n",
    "            img, text = random_stamp_numbers(char_img)\n",
    "            # print(text)\n",
    "            imgs.append(np.copy(img))\n",
    "            \n",
    "            # oht representation of text\n",
    "            for n in range(len(text)):\n",
    "                y_gt[N, text_to_idx[text[n]], n]=1\n",
    "    \n",
    "        # yield batch\n",
    "        yield imgs, y_gt\n",
    "        \n",
    "    "
   ]
  },
  {
   "cell_type": "markdown",
   "metadata": {
    "Collapsed": "false"
   },
   "source": [
    "## generators"
   ]
  },
  {
   "cell_type": "code",
   "execution_count": 14,
   "metadata": {
    "Collapsed": "false"
   },
   "outputs": [],
   "source": [
    "gen_train = generator(char_img, batch_size = BATCH_SIZE)\n",
    "gen_val = generator(char_img_test, batch_size = BATCH_SIZE)"
   ]
  },
  {
   "cell_type": "code",
   "execution_count": 15,
   "metadata": {
    "Collapsed": "false"
   },
   "outputs": [],
   "source": [
    "imgs, y_gt = next(gen_train)"
   ]
  },
  {
   "cell_type": "code",
   "execution_count": 16,
   "metadata": {
    "Collapsed": "false"
   },
   "outputs": [
    {
     "data": {
      "text/plain": [
       "(2, 10, 8)"
      ]
     },
     "execution_count": 16,
     "metadata": {},
     "output_type": "execute_result"
    }
   ],
   "source": [
    "y_gt.shape"
   ]
  },
  {
   "cell_type": "code",
   "execution_count": 17,
   "metadata": {
    "Collapsed": "false"
   },
   "outputs": [
    {
     "name": "stdout",
     "output_type": "stream",
     "text": [
      "[1 4 0 1 1 5 8 2]\n"
     ]
    },
    {
     "data": {
      "image/png": "[encoded data removed]",
      "text/plain": [
       "<Figure size 432x288 with 1 Axes>"
      ]
     },
     "metadata": {
      "needs_background": "light"
     },
     "output_type": "display_data"
    }
   ],
   "source": [
    "plt.imshow(imgs[0])\n",
    "print(np.argmax(y_gt[0], axis=0))"
   ]
  },
  {
   "cell_type": "markdown",
   "metadata": {
    "Collapsed": "false"
   },
   "source": [
    "## ConvNet"
   ]
  },
  {
   "cell_type": "code",
   "execution_count": 18,
   "metadata": {
    "Collapsed": "false"
   },
   "outputs": [],
   "source": [
    "import torch"
   ]
  },
  {
   "cell_type": "code",
   "execution_count": 19,
   "metadata": {
    "Collapsed": "false"
   },
   "outputs": [],
   "source": [
    "from numpy import floor"
   ]
  },
  {
   "cell_type": "code",
   "execution_count": 20,
   "metadata": {
    "Collapsed": "false"
   },
   "outputs": [],
   "source": [
    "def conv2d(height, width, kernel, stride=(1,1)):\n",
    "    return  int(floor((height - kernel)/stride[0] + 1))  , \\\n",
    "            int(floor((width - kernel )/stride[1]) + 1)\n",
    "\n",
    "def maxpool2d(height, width, kernel, stride = 1):\n",
    "    return (height//kernel)"
   ]
  },
  {
   "cell_type": "code",
   "execution_count": 21,
   "metadata": {
    "Collapsed": "false"
   },
   "outputs": [
    {
     "name": "stdout",
     "output_type": "stream",
     "text": [
      "62 254\n",
      "29 125\n",
      "16 38\n",
      "1 8\n"
     ]
    }
   ],
   "source": [
    "height, width = (64, 256)\n",
    "kernels = [3,5,14,16]\n",
    "strides = [(1,1),(2,2),(1,3),(1,3)]\n",
    "\n",
    "for n in range(len(kernels)):\n",
    "    \n",
    "    k = kernels[n]\n",
    "    stride = strides[n]\n",
    "    \n",
    "    height, width =conv2d(height,width, k, stride)\n",
    "    print(height, width)\n"
   ]
  },
  {
   "cell_type": "code",
   "execution_count": 22,
   "metadata": {
    "Collapsed": "false"
   },
   "outputs": [],
   "source": [
    "import pdb"
   ]
  },
  {
   "cell_type": "code",
   "execution_count": 23,
   "metadata": {
    "Collapsed": "false"
   },
   "outputs": [],
   "source": [
    "class OCR_CNN(torch.nn.Module):\n",
    "    '''\n",
    "    width     -> sequence length\n",
    "    height    -> summed over, or max pooled\n",
    "    channnels -> character classes\n",
    "    \n",
    "    \n",
    "    img format required by pytorch \n",
    "    (N_batch,channels,Height,Width)\n",
    "    '''\n",
    "    \n",
    "    def __init__(self):\n",
    "        super(OCR_CNN, self).__init__()\n",
    "        \n",
    "        \n",
    "        kernels = [3,5,14,16]\n",
    "        strides = [(1,1),(2,2),(1,3),(1,3)]\n",
    "        filters = [3,16,64,64,10] # filters should grow exp?\n",
    "        \n",
    "        \n",
    "        # ideas to add: 1. \n",
    "        \n",
    "        # conv blocks\n",
    "        self.conv = []\n",
    "        self.bn = torch.nn.BatchNorm2d(3)\n",
    "        self.conv1 = torch.nn.Conv2d(filters[0], filters[0+1], kernels[0], stride=strides[0])\n",
    "        self.conv2 = torch.nn.Conv2d(filters[1], filters[1+1], kernels[1], stride=strides[1])\n",
    "        self.conv3 = torch.nn.MaxPool2d(kernels[2], stride=strides[2])\n",
    "        \n",
    "        self.conv4 = torch.nn.Conv2d(filters[2], filters[3+1], kernels[3], stride=strides[3])\n",
    "\n",
    "        self.conv = [self.conv1, self.conv2, self.conv3, self.conv4]\n",
    "        \n",
    "#         for n in range(0,len(kernels)):    \n",
    "#             self.conv.append(\n",
    "#                 torch.nn.Conv2d(filters[n], filters[n+1], kernels[n], stride=strides[n])\n",
    "#             )\n",
    "        \n",
    "        # activation\n",
    "        self.activation = torch.nn.ReLU()\n",
    "        self.softmax = torch.nn.Softmax(dim=1)# after squezze channels are the second, third is position\n",
    "    \n",
    "    \n",
    "    def forward(self, x):\n",
    "        # incoming format: N_batch,Height,Width,channels\n",
    "        # permute to:      N_batch,channels,Height,Width\n",
    "        #with torch.cuda.device(0):\n",
    "            \n",
    "        x = x.permute((0,3,1,2))\n",
    "\n",
    "        x = self.bn(x) \n",
    "\n",
    "\n",
    "        for conv in self.conv[0:-1]:\n",
    "            x = conv(x)\n",
    "            x = self.activation(x)\n",
    "\n",
    "        x = self.conv[-1](x) # last conv \n",
    "\n",
    "        # height dim (1st) is 1, so contract\n",
    "        x = torch.squeeze(x, 2) # [batch, n_filters, 1 vertical, 8 horizontal pos]       \n",
    "\n",
    "        # add 1x1 convolution layer ?\n",
    "\n",
    "        #x = self.softmax(x) # [softmax over n_filters i.e. char probs]\n",
    "        #pdb.set_trace()\n",
    "        \n",
    "        return x\n",
    "    "
   ]
  },
  {
   "cell_type": "markdown",
   "metadata": {
    "Collapsed": "false"
   },
   "source": [
    "## model test"
   ]
  },
  {
   "cell_type": "code",
   "execution_count": null,
   "metadata": {
    "Collapsed": "false"
   },
   "outputs": [],
   "source": [
    "def softmax(y):\n",
    "    '''\n",
    "    y --- [class, letter]\n",
    "    '''\n",
    "    return np.exp(y) / np.sum(np.exp(y), axis=0)"
   ]
  },
  {
   "cell_type": "code",
   "execution_count": 24,
   "metadata": {
    "Collapsed": "false"
   },
   "outputs": [],
   "source": [
    "#Helper to count params\n",
    "def count_parameters(model):\n",
    "    return sum(p.numel() for p in model.parameters() if p.requires_grad)"
   ]
  },
  {
   "cell_type": "code",
   "execution_count": 25,
   "metadata": {
    "Collapsed": "false"
   },
   "outputs": [],
   "source": [
    "model = OCR_CNN()"
   ]
  },
  {
   "cell_type": "code",
   "execution_count": null,
   "metadata": {
    "Collapsed": "false"
   },
   "outputs": [],
   "source": []
  },
  {
   "cell_type": "code",
   "execution_count": 26,
   "metadata": {
    "Collapsed": "false"
   },
   "outputs": [
    {
     "data": {
      "text/plain": [
       "189968"
      ]
     },
     "execution_count": 26,
     "metadata": {},
     "output_type": "execute_result"
    }
   ],
   "source": [
    "count_parameters(model)"
   ]
  },
  {
   "cell_type": "code",
   "execution_count": 27,
   "metadata": {
    "Collapsed": "false"
   },
   "outputs": [
    {
     "data": {
      "text/plain": [
       "<All keys matched successfully>"
      ]
     },
     "execution_count": 27,
     "metadata": {},
     "output_type": "execute_result"
    }
   ],
   "source": [
    "model.load_state_dict(torch.load('best_model.state_dict'))"
   ]
  },
  {
   "cell_type": "code",
   "execution_count": 248,
   "metadata": {
    "Collapsed": "false"
   },
   "outputs": [
    {
     "data": {
      "image/png": "[encoded data removed]",
      "text/plain": [
       "<Figure size 432x288 with 1 Axes>"
      ]
     },
     "metadata": {
      "needs_background": "light"
     },
     "output_type": "display_data"
    },
    {
     "data": {
      "image/png": "[encoded data removed]",
      "text/plain": [
       "<Figure size 432x288 with 1 Axes>"
      ]
     },
     "metadata": {
      "needs_background": "light"
     },
     "output_type": "display_data"
    }
   ],
   "source": [
    "img, text = random_stamp_numbers(char_img)\n",
    "\n",
    "x = torch.tensor(np.expand_dims(img, axis=0))\n",
    "\n",
    "y = model(x.float())\n",
    "\n",
    "plt.imshow(img)\n",
    "plt.show()\n",
    "\n",
    "pred = np.argmax(y.data.numpy()[0], axis=0)\n",
    "\n",
    "plt.imshow(softmax(y.data.numpy()[0]))\n",
    "\n",
    "plt.scatter(range(len(text)), [int(t) for t in text], c='r', alpha=1, marker='^')\n",
    "plt.scatter(range(len(pred)), pred, c='g', alpha=1, marker='v')\n",
    "plt.show()"
   ]
  },
  {
   "cell_type": "markdown",
   "metadata": {
    "Collapsed": "false"
   },
   "source": [
    "## Trainning"
   ]
  },
  {
   "cell_type": "code",
   "execution_count": 44,
   "metadata": {
    "Collapsed": "false"
   },
   "outputs": [],
   "source": [
    "model.training=True"
   ]
  },
  {
   "cell_type": "code",
   "execution_count": 45,
   "metadata": {
    "Collapsed": "false"
   },
   "outputs": [
    {
     "data": {
      "text/plain": [
       "<bound method Module.parameters of OCR_CNN(\n",
       "  (bn): BatchNorm2d(3, eps=1e-05, momentum=0.1, affine=True, track_running_stats=True)\n",
       "  (conv1): Conv2d(3, 16, kernel_size=(3, 3), stride=(1, 1))\n",
       "  (conv2): Conv2d(16, 32, kernel_size=(5, 5), stride=(2, 2))\n",
       "  (conv3): MaxPool2d(kernel_size=14, stride=(1, 3), padding=0, dilation=1, ceil_mode=False)\n",
       "  (conv4): Conv2d(32, 10, kernel_size=(16, 16), stride=(1, 3))\n",
       "  (activation): ELU(alpha=1.0)\n",
       "  (softmax): Softmax(dim=1)\n",
       ")>"
      ]
     },
     "execution_count": 45,
     "metadata": {},
     "output_type": "execute_result"
    }
   ],
   "source": [
    "model.parameters"
   ]
  },
  {
   "cell_type": "code",
   "execution_count": null,
   "metadata": {
    "Collapsed": "false"
   },
   "outputs": [],
   "source": []
  },
  {
   "cell_type": "code",
   "execution_count": 46,
   "metadata": {
    "Collapsed": "false"
   },
   "outputs": [],
   "source": [
    "loss_fn = torch.nn.CrossEntropyLoss()"
   ]
  },
  {
   "cell_type": "markdown",
   "metadata": {
    "Collapsed": "false"
   },
   "source": [
    "## Display loss"
   ]
  },
  {
   "cell_type": "code",
   "execution_count": 47,
   "metadata": {
    "Collapsed": "false"
   },
   "outputs": [],
   "source": [
    "from IPython import display"
   ]
  },
  {
   "cell_type": "code",
   "execution_count": 48,
   "metadata": {
    "Collapsed": "false"
   },
   "outputs": [],
   "source": [
    "def plot_loss(LOSS):\n",
    "    '''\n",
    "    Display loss and Error rate\n",
    "    '''\n",
    "    \n",
    "    display.clear_output(wait=True)\n",
    "#     plt.clf()\n",
    "#     try:\n",
    "#         fig.clear()\n",
    "#         plt.close(fig)\n",
    "#     except:\n",
    "#         pass\n",
    "\n",
    "    fig, ax = plt.subplots(1, 2, figsize=(20,10))\n",
    "    ax[0].plot(LOSS)\n",
    "    ax[0].set_title('LOSS')\n",
    "    ax[0].set_xlabel('step')\n",
    "\n",
    "#     ax[1].plot(ERROR_RATE)\n",
    "#     ax[1].set_title('Char Error Rate')\n",
    "#     ax[1].set_xlabel('arb idx')\n",
    "\n",
    "    fig.show()\n",
    "    display.display(fig)\n",
    "    \n",
    "    fig.clear()\n",
    "    plt.close(fig)"
   ]
  },
  {
   "cell_type": "markdown",
   "metadata": {
    "Collapsed": "false"
   },
   "source": [
    "## Train for epoch\n"
   ]
  },
  {
   "cell_type": "code",
   "execution_count": 132,
   "metadata": {
    "Collapsed": "false"
   },
   "outputs": [],
   "source": [
    "losses = []\n",
    "accuracy = []\n",
    "def train_for_epoch(model, optimizer, loader):\n",
    "    '''\n",
    "    model --- the model\n",
    "    loader: for X, Y in loader:\n",
    "    optimizer:\n",
    "        optimizer.zero_grad()\n",
    "        loss.backward()\n",
    "        optimizer.step()\n",
    "\n",
    "    return avg_loss / len(loader)\n",
    "    '''\n",
    "    model.train()\n",
    "    epoch_size = 100\n",
    "    \n",
    "    #losses = []\n",
    "    \n",
    "    for n_iter in range(epoch_size):\n",
    "        x, y = next(loader)\n",
    "        \n",
    "        optimizer.zero_grad()\n",
    "        \n",
    "        y_gt = torch.tensor(y).long() # [batch, char_class, char_idx]\n",
    "        y_hat = model(torch.tensor(x).float()) # [batch, char_class, char_idx]\n",
    "        \n",
    "        # y[batch, classes, char_idx]\n",
    "        \n",
    "        loss = torch.tensor(0).float()\n",
    "        \n",
    "        for char_idx in range(y.shape[2]):\n",
    "            loss = loss + loss_fn(y_hat[:,:,char_idx], torch.argmax(y_gt[:,:,char_idx], axis=1))\n",
    "            \n",
    "            # compute accuracy\n",
    "            acc = torch.mean(torch.argmax(y_gt, axis = 1) == torch.argmax(y_hat, axis=1))\n",
    "            \n",
    "        \n",
    "        loss.backward()\n",
    "        \n",
    "        \n",
    "        # loss\n",
    "        losses.append(loss.data.numpy())\n",
    "        accuracy.append(acc.data.numpy())\n",
    "        # print( loss)\n",
    "        \n",
    "        plot_loss(losses)\n",
    "        \n",
    "        optimizer.step()\n",
    "    \n",
    "    return "
   ]
  },
  {
   "cell_type": "code",
   "execution_count": 133,
   "metadata": {
    "Collapsed": "false"
   },
   "outputs": [
    {
     "ename": "NameError",
     "evalue": "name 'loss_fn' is not defined",
     "output_type": "error",
     "traceback": [
      "\u001b[1;31m---------------------------------------------------------------------------\u001b[0m",
      "\u001b[1;31mNameError\u001b[0m                                 Traceback (most recent call last)",
      "\u001b[1;32m<ipython-input-133-cb713690cee3>\u001b[0m in \u001b[0;36m<module>\u001b[1;34m\u001b[0m\n\u001b[0;32m      2\u001b[0m \u001b[1;33m\u001b[0m\u001b[0m\n\u001b[0;32m      3\u001b[0m \u001b[0mgen_train\u001b[0m \u001b[1;33m=\u001b[0m \u001b[0mgenerator\u001b[0m\u001b[1;33m(\u001b[0m\u001b[0mchar_img\u001b[0m\u001b[1;33m,\u001b[0m \u001b[0mbatch_size\u001b[0m \u001b[1;33m=\u001b[0m \u001b[1;36m32\u001b[0m\u001b[1;33m)\u001b[0m\u001b[1;33m\u001b[0m\u001b[1;33m\u001b[0m\u001b[0m\n\u001b[1;32m----> 4\u001b[1;33m \u001b[0mtrain_for_epoch\u001b[0m\u001b[1;33m(\u001b[0m\u001b[0mmodel\u001b[0m\u001b[1;33m,\u001b[0m \u001b[0moptim\u001b[0m\u001b[1;33m,\u001b[0m \u001b[0mgen_train\u001b[0m\u001b[1;33m)\u001b[0m\u001b[1;33m\u001b[0m\u001b[1;33m\u001b[0m\u001b[0m\n\u001b[0m",
      "\u001b[1;32m<ipython-input-132-a22826fcea37>\u001b[0m in \u001b[0;36mtrain_for_epoch\u001b[1;34m(model, optimizer, loader)\u001b[0m\n\u001b[0;32m     30\u001b[0m \u001b[1;33m\u001b[0m\u001b[0m\n\u001b[0;32m     31\u001b[0m         \u001b[1;32mfor\u001b[0m \u001b[0mchar_idx\u001b[0m \u001b[1;32min\u001b[0m \u001b[0mrange\u001b[0m\u001b[1;33m(\u001b[0m\u001b[0my\u001b[0m\u001b[1;33m.\u001b[0m\u001b[0mshape\u001b[0m\u001b[1;33m[\u001b[0m\u001b[1;36m2\u001b[0m\u001b[1;33m]\u001b[0m\u001b[1;33m)\u001b[0m\u001b[1;33m:\u001b[0m\u001b[1;33m\u001b[0m\u001b[1;33m\u001b[0m\u001b[0m\n\u001b[1;32m---> 32\u001b[1;33m             \u001b[0mloss\u001b[0m \u001b[1;33m=\u001b[0m \u001b[0mloss\u001b[0m \u001b[1;33m+\u001b[0m \u001b[0mloss_fn\u001b[0m\u001b[1;33m(\u001b[0m\u001b[0my_hat\u001b[0m\u001b[1;33m[\u001b[0m\u001b[1;33m:\u001b[0m\u001b[1;33m,\u001b[0m\u001b[1;33m:\u001b[0m\u001b[1;33m,\u001b[0m\u001b[0mchar_idx\u001b[0m\u001b[1;33m]\u001b[0m\u001b[1;33m,\u001b[0m \u001b[0mtorch\u001b[0m\u001b[1;33m.\u001b[0m\u001b[0margmax\u001b[0m\u001b[1;33m(\u001b[0m\u001b[0my_gt\u001b[0m\u001b[1;33m[\u001b[0m\u001b[1;33m:\u001b[0m\u001b[1;33m,\u001b[0m\u001b[1;33m:\u001b[0m\u001b[1;33m,\u001b[0m\u001b[0mchar_idx\u001b[0m\u001b[1;33m]\u001b[0m\u001b[1;33m,\u001b[0m \u001b[0maxis\u001b[0m\u001b[1;33m=\u001b[0m\u001b[1;36m1\u001b[0m\u001b[1;33m)\u001b[0m\u001b[1;33m)\u001b[0m\u001b[1;33m\u001b[0m\u001b[1;33m\u001b[0m\u001b[0m\n\u001b[0m\u001b[0;32m     33\u001b[0m \u001b[1;33m\u001b[0m\u001b[0m\n\u001b[0;32m     34\u001b[0m             \u001b[1;31m# compute accuracy\u001b[0m\u001b[1;33m\u001b[0m\u001b[1;33m\u001b[0m\u001b[1;33m\u001b[0m\u001b[0m\n",
      "\u001b[1;31mNameError\u001b[0m: name 'loss_fn' is not defined"
     ]
    }
   ],
   "source": [
    "optim = torch.optim.Adam(model.parameters(), lr=1e-4)\n",
    "\n",
    "gen_train = generator(char_img, batch_size = 32)\n",
    "train_for_epoch(model, optim, gen_train)"
   ]
  },
  {
   "cell_type": "markdown",
   "metadata": {
    "Collapsed": "false"
   },
   "source": [
    "__Template features__"
   ]
  },
  {
   "cell_type": "markdown",
   "metadata": {
    "Collapsed": "false"
   },
   "source": [
    "Upgrades\n",
    "\n",
    "1. All odd conv layers\n",
    "2. Missing layers\n",
    "3. Fully Connected head?\n",
    "4. Residual Connection"
   ]
  },
  {
   "cell_type": "code",
   "execution_count": 93,
   "metadata": {
    "Collapsed": "false"
   },
   "outputs": [
    {
     "data": {
      "text/plain": [
       "'\\nTrainning loop\\n\\nfor i in range(n_epochs):\\n    if i == 15:\\n        for g in optimizer.param_groups:\\n            g[\\'lr\\'] = 0.0001\\n    train_losses.append(train_for_epoch(model, optimizer, train_loader))\\n    val_loss, val_acc = eval_on_validation(model, val_loader)\\n    val_losses.append(val_loss)\\n    val_accs.append(val_acc)\\n    print(i + 1, \" / \", n_epochs, \": loss: \", train_losses[-1], \", val_loss: \", val_losses[-1], \", val_accs: \", val_accs[-1])\\n'"
      ]
     },
     "execution_count": 93,
     "metadata": {},
     "output_type": "execute_result"
    }
   ],
   "source": [
    "'''\n",
    "Trainning loop\n",
    "\n",
    "for i in range(n_epochs):\n",
    "    if i == 15:\n",
    "        for g in optimizer.param_groups:\n",
    "            g['lr'] = 0.0001\n",
    "    train_losses.append(train_for_epoch(model, optimizer, train_loader))\n",
    "    val_loss, val_acc = eval_on_validation(model, val_loader)\n",
    "    val_losses.append(val_loss)\n",
    "    val_accs.append(val_acc)\n",
    "    print(i + 1, \" / \", n_epochs, \": loss: \", train_losses[-1], \", val_loss: \", val_losses[-1], \", val_accs: \", val_accs[-1])\n",
    "'''"
   ]
  },
  {
   "cell_type": "code",
   "execution_count": null,
   "metadata": {
    "Collapsed": "false"
   },
   "outputs": [],
   "source": []
  }
 ],
 "metadata": {
  "kernelspec": {
   "display_name": "Python 3",
   "language": "python",
   "name": "python3"
  },
  "language_info": {
   "codemirror_mode": {
    "name": "ipython",
    "version": 3
   },
   "file_extension": ".py",
   "mimetype": "text/x-python",
   "name": "python",
   "nbconvert_exporter": "python",
   "pygments_lexer": "ipython3",
   "version": "3.7.3"
  }
 },
 "nbformat": 4,
 "nbformat_minor": 4
}
