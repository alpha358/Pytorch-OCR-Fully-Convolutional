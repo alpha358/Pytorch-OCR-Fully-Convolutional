{
 "cells": [
  {
   "cell_type": "markdown",
   "metadata": {
    "Collapsed": "false"
   },
   "source": [
    "## imports"
   ]
  },
  {
   "cell_type": "code",
   "execution_count": 1,
   "metadata": {
    "Collapsed": "false"
   },
   "outputs": [],
   "source": [
    "import matplotlib.pyplot as plt\n",
    "import numpy as np \n",
    "import cv2"
   ]
  },
  {
   "cell_type": "markdown",
   "metadata": {
    "Collapsed": "false"
   },
   "source": [
    "## Read imgs"
   ]
  },
  {
   "cell_type": "code",
   "execution_count": 2,
   "metadata": {
    "Collapsed": "false"
   },
   "outputs": [],
   "source": [
    "# construct the dict of imgs"
   ]
  },
  {
   "cell_type": "code",
   "execution_count": 3,
   "metadata": {
    "Collapsed": "false"
   },
   "outputs": [],
   "source": [
    "from glob import glob"
   ]
  },
  {
   "cell_type": "markdown",
   "metadata": {
    "Collapsed": "false"
   },
   "source": [
    "## Generate text example"
   ]
  },
  {
   "cell_type": "markdown",
   "metadata": {
    "Collapsed": "false"
   },
   "source": [
    "### Read images "
   ]
  },
  {
   "cell_type": "code",
   "execution_count": 4,
   "metadata": {
    "Collapsed": "false"
   },
   "outputs": [],
   "source": [
    "from collections import defaultdict"
   ]
  },
  {
   "cell_type": "code",
   "execution_count": 5,
   "metadata": {
    "Collapsed": "false"
   },
   "outputs": [],
   "source": [
    "def get_imgs_dict(path='img/numbers/'):\n",
    "    \n",
    "    char_img_paths = {}\n",
    "    \n",
    "    chars = ['-','.', '0', '1', '2', '3', '4', '5', '6', '7', '8', '9' ]\n",
    "    \n",
    "    for c in chars:\n",
    "        char_img_paths[c] = glob(path + c +'*')\n",
    "    \n",
    "    \n",
    "    char_img = defaultdict(list)\n",
    "\n",
    "    for char, paths in char_img_paths.items():\n",
    "        for path in paths:\n",
    "            char_img[char].append( \n",
    "                cv2.cvtColor(\n",
    "                    cv2.imread(path, cv2.IMREAD_UNCHANGED),\n",
    "                cv2.COLOR_BGRA2RGBA\n",
    "                )\n",
    "            )\n",
    "    return char_img"
   ]
  },
  {
   "cell_type": "code",
   "execution_count": 6,
   "metadata": {
    "Collapsed": "false"
   },
   "outputs": [
    {
     "name": "stderr",
     "output_type": "stream",
     "text": [
      "'ls' is not recognized as an internal or external command,\n",
      "operable program or batch file.\n"
     ]
    }
   ],
   "source": [
    "! ls ../input/numbers"
   ]
  },
  {
   "cell_type": "code",
   "execution_count": 7,
   "metadata": {
    "Collapsed": "false"
   },
   "outputs": [],
   "source": [
    "char_img = get_imgs_dict('../input/numbers/numbers/')\n",
    "char_img_test = get_imgs_dict('../input/numbers/numbers_test/')"
   ]
  },
  {
   "cell_type": "markdown",
   "metadata": {
    "Collapsed": "false"
   },
   "source": [
    "### Paste images"
   ]
  },
  {
   "cell_type": "code",
   "execution_count": 8,
   "metadata": {
    "Collapsed": "false"
   },
   "outputs": [],
   "source": [
    "def superimpose_img(background, img, topleft, char_size=(32,64)):\n",
    "    '''\n",
    "    background --- 4 chnl background\n",
    "    img        --- the imge to be superimposed\n",
    "    '''\n",
    "    img = cv2.resize(img, char_size, interpolation=cv2.INTER_CUBIC)\n",
    "    \n",
    "    # use alpha channel to kill background \n",
    "    alpha = np.expand_dims(img[:,:,3], axis=2)\n",
    "    alpha = alpha / np.max(alpha)\n",
    "    img = img * alpha\n",
    "    \n",
    "    \n",
    "    \n",
    "    top, left = topleft\n",
    "    height, width, _ = img.shape\n",
    "    \n",
    "    # remove the background where the symbol must be\n",
    "    background[top:top + height, left:left+width] *= (1-alpha)\n",
    "    \n",
    "    # superimpose the image onto background\n",
    "    background[top:top + height, left:left+width] += img\n",
    "    \n",
    "    return np.asarray(background, dtype = np.int32)"
   ]
  },
  {
   "cell_type": "code",
   "execution_count": 9,
   "metadata": {
    "Collapsed": "false"
   },
   "outputs": [],
   "source": [
    "n_characters = 8\n",
    "char_width = 32\n",
    "char_height = 64\n",
    "spacing = 32\n",
    "\n",
    "def random_stamp_numbers(char_img):\n",
    "    '''\n",
    "    Generate an image of random numbers drawn from img/numbers folder\n",
    "    '''\n",
    "    \n",
    "    background = np.ones((char_height, n_characters*char_width, 4))*255\n",
    "    \n",
    "    text = [] # GT text\n",
    "    \n",
    "    for n in range(8):\n",
    "        number = np.random.randint(0, 9)\n",
    "        char = str(number)\n",
    "        text.append(char)\n",
    "        \n",
    "        # select the character example\n",
    "        n_examples = len(char_img[char])\n",
    "        if n_examples > 1:\n",
    "            example_idx = np.random.randint(0, n_examples-1 )\n",
    "        else:\n",
    "            example_idx = 0\n",
    "        \n",
    "        \n",
    "        img2 = superimpose_img(background, char_img[char][example_idx], (0,spacing*n))\n",
    "        \n",
    "        # rgba to rgb       \n",
    "        img2 = cv2.cvtColor(np.uint8(img2), cv2.COLOR_RGBA2RGB)\n",
    "        \n",
    "    return img2, text\n",
    "\n",
    "# plt.imshow(img2)\n",
    "# plt.show()"
   ]
  },
  {
   "cell_type": "code",
   "execution_count": 10,
   "metadata": {
    "Collapsed": "false"
   },
   "outputs": [],
   "source": [
    "# plt.imshow(char_img['4'][0][:,:, 3])"
   ]
  },
  {
   "cell_type": "code",
   "execution_count": 11,
   "metadata": {
    "Collapsed": "false"
   },
   "outputs": [
    {
     "name": "stdout",
     "output_type": "stream",
     "text": [
      "['2', '2', '0', '5', '4', '7', '0', '4']\n"
     ]
    },
    {
     "data": {
      "image/png": "[encoded data removed]",
      "text/plain": [
       "<Figure size 432x288 with 1 Axes>"
      ]
     },
     "metadata": {
      "needs_background": "light"
     },
     "output_type": "display_data"
    }
   ],
   "source": [
    "img, text = random_stamp_numbers(char_img_test)\n",
    "plt.imshow(img)\n",
    "print(text)"
   ]
  },
  {
   "cell_type": "markdown",
   "metadata": {
    "Collapsed": "false"
   },
   "source": [
    "## Generator"
   ]
  },
  {
   "cell_type": "code",
   "execution_count": 12,
   "metadata": {
    "Collapsed": "false"
   },
   "outputs": [],
   "source": [
    "text_to_idx ={\n",
    "    '0':0, '1':1, '2':2, '3':3, '4':4, '5':5, '6':6, '7':7, '8':8, '9':9,\n",
    "#     '-','.' \n",
    "}"
   ]
  },
  {
   "cell_type": "code",
   "execution_count": 13,
   "metadata": {
    "Collapsed": "false"
   },
   "outputs": [],
   "source": [
    "def text_to_y(y, text, N):\n",
    "    '''\n",
    "    y[batch_idx, character class, character position]\n",
    "    convert chars list (text) to oht\n",
    "    n --- batch idx\n",
    "    '''\n",
    "    for n in len(text):\n",
    "        y[N, text_to_idx[text[n]], n]=1\n",
    "    "
   ]
  },
  {
   "cell_type": "code",
   "execution_count": 14,
   "metadata": {
    "Collapsed": "false"
   },
   "outputs": [],
   "source": [
    "n_chars_dict = 10\n",
    "n_chars = 8\n",
    "BATCH_SIZE = 2\n",
    "\n",
    "def generator(char_img, epoch_size = 100, batch_size = 2):\n",
    "    '''\n",
    "    char_img --- images of characters\n",
    "    '''\n",
    "    \n",
    "    \n",
    "    \n",
    "    for N_ in range(epoch_size):\n",
    "        y_gt = np.zeros((batch_size, n_chars_dict, n_chars))\n",
    "        imgs = [] \n",
    "        for N in range(batch_size):\n",
    "            img, text = random_stamp_numbers(char_img)\n",
    "            # print(text)\n",
    "            imgs.append(np.copy(img))\n",
    "            \n",
    "            # oht representation of text\n",
    "            for n in range(len(text)):\n",
    "                y_gt[N, text_to_idx[text[n]], n]=1\n",
    "    \n",
    "        # yield batch\n",
    "        yield imgs, y_gt\n",
    "        \n",
    "    "
   ]
  },
  {
   "cell_type": "code",
   "execution_count": 15,
   "metadata": {
    "Collapsed": "false"
   },
   "outputs": [],
   "source": [
    "BATCH_SIZE = 64"
   ]
  },
  {
   "cell_type": "code",
   "execution_count": 16,
   "metadata": {
    "Collapsed": "false"
   },
   "outputs": [],
   "source": [
    "# generate static examples\n",
    "epoch_size = 100\n",
    "batch_size = 64\n",
    "\n",
    "EXAMPLES = []\n",
    "for N_ in range(epoch_size):\n",
    "    EXAMPLES.append([])\n",
    "    for N in range(batch_size):\n",
    "        EXAMPLES[N_].append( random_stamp_numbers(char_img))"
   ]
  },
  {
   "cell_type": "code",
   "execution_count": 17,
   "metadata": {
    "Collapsed": "false"
   },
   "outputs": [],
   "source": [
    "\n",
    "def generator_static(char_img, epoch_size = 100, batch_size = 2):\n",
    "    '''\n",
    "    char_img --- images of characters\n",
    "    '''\n",
    "    \n",
    "    \n",
    "    \n",
    "    for N_ in range(epoch_size):\n",
    "        y_gt = np.zeros((batch_size, n_chars_dict, n_chars))\n",
    "        imgs = [] \n",
    "        for N in range(batch_size):\n",
    "            img, text = EXAMPLES[N_][N]\n",
    "            # print(text)\n",
    "            imgs.append(np.copy(img))\n",
    "            \n",
    "            # oht representation of text\n",
    "            for n in range(len(text)):\n",
    "                y_gt[N, text_to_idx[text[n]], n]=1\n",
    "    \n",
    "        # yield batch\n",
    "        yield imgs, y_gt"
   ]
  },
  {
   "cell_type": "markdown",
   "metadata": {
    "Collapsed": "false"
   },
   "source": [
    "## generators"
   ]
  },
  {
   "cell_type": "code",
   "execution_count": 18,
   "metadata": {
    "Collapsed": "false"
   },
   "outputs": [],
   "source": [
    "gen_train = generator_static(char_img, batch_size = BATCH_SIZE)\n",
    "gen_val = generator(char_img_test, batch_size = BATCH_SIZE)"
   ]
  },
  {
   "cell_type": "code",
   "execution_count": 19,
   "metadata": {
    "Collapsed": "false"
   },
   "outputs": [],
   "source": [
    "imgs, y_gt = next(gen_train)"
   ]
  },
  {
   "cell_type": "code",
   "execution_count": 20,
   "metadata": {
    "Collapsed": "false"
   },
   "outputs": [
    {
     "data": {
      "text/plain": [
       "(64, 10, 8)"
      ]
     },
     "execution_count": 20,
     "metadata": {},
     "output_type": "execute_result"
    }
   ],
   "source": [
    "y_gt.shape"
   ]
  },
  {
   "cell_type": "code",
   "execution_count": 21,
   "metadata": {
    "Collapsed": "false"
   },
   "outputs": [
    {
     "name": "stdout",
     "output_type": "stream",
     "text": [
      "[3 5 1 0 3 4 0 5]\n"
     ]
    },
    {
     "data": {
      "image/png": "[encoded data removed]",
      "text/plain": [
       "<Figure size 432x288 with 1 Axes>"
      ]
     },
     "metadata": {
      "needs_background": "light"
     },
     "output_type": "display_data"
    }
   ],
   "source": [
    "plt.imshow(imgs[0])\n",
    "print(np.argmax(y_gt[0], axis=0))"
   ]
  },
  {
   "cell_type": "markdown",
   "metadata": {
    "Collapsed": "false"
   },
   "source": [
    "## ConvNet"
   ]
  },
  {
   "cell_type": "code",
   "execution_count": 22,
   "metadata": {
    "Collapsed": "false"
   },
   "outputs": [],
   "source": [
    "import torch"
   ]
  },
  {
   "cell_type": "code",
   "execution_count": 23,
   "metadata": {
    "Collapsed": "false"
   },
   "outputs": [],
   "source": [
    "from numpy import floor"
   ]
  },
  {
   "cell_type": "code",
   "execution_count": 24,
   "metadata": {
    "Collapsed": "false"
   },
   "outputs": [],
   "source": [
    "def conv2d(height, width, kernel, stride=(1,1)):\n",
    "    return  int(floor((height - kernel)/stride[0] + 1))  , \\\n",
    "            int(floor((width - kernel )/stride[1]) + 1)\n",
    "\n",
    "def maxpool2d(height, width, kernel, stride = 1):\n",
    "    return (height//kernel)"
   ]
  },
  {
   "cell_type": "code",
   "execution_count": 25,
   "metadata": {
    "Collapsed": "false"
   },
   "outputs": [
    {
     "name": "stdout",
     "output_type": "stream",
     "text": [
      "62 254\n",
      "58 250\n",
      "23 119\n",
      "8 104\n"
     ]
    }
   ],
   "source": [
    "height, width = (64, 256)\n",
    "kernels = [3,5,14,16]\n",
    "strides = [(1,1),(1,1),(2,2),(1,1)]\n",
    "\n",
    "for n in range(len(kernels)):\n",
    "    \n",
    "    k = kernels[n]\n",
    "    stride = strides[n]\n",
    "    \n",
    "    height, width =conv2d(height,width, k, stride)\n",
    "    print(height, width)\n"
   ]
  },
  {
   "cell_type": "markdown",
   "metadata": {
    "Collapsed": "false"
   },
   "source": [
    "# import pdb"
   ]
  },
  {
   "cell_type": "code",
   "execution_count": 26,
   "metadata": {
    "Collapsed": "false"
   },
   "outputs": [],
   "source": [
    "class OCR_CNN(torch.nn.Module):\n",
    "    '''\n",
    "    width     -> sequence length\n",
    "    height    -> summed over, or max pooled\n",
    "    channnels -> character classes\n",
    "    \n",
    "    \n",
    "    img format required by pytorch \n",
    "    (N_batch,channels,Height,Width)\n",
    "    '''\n",
    "    \n",
    "    def __init__(self):\n",
    "        super(OCR_CNN, self).__init__()\n",
    "        \n",
    "        \n",
    "        kernels = [3,5,14,16]\n",
    "        strides = [(1,1), (2,2), (1,3), (1,3)]\n",
    "        filters = [3,16,64,64,11] # filters should grow exp?\n",
    "        ## 11 channel is for 10 numbers + 1 epsilon (number 10)\n",
    "        \n",
    "        # conv blocks\n",
    "        self.conv = []\n",
    "        self.bn = torch.nn.BatchNorm2d(3)\n",
    "        self.conv1 = torch.nn.Conv2d(filters[0], filters[0+1], kernels[0], stride=strides[0])\n",
    "        self.conv2 = torch.nn.Conv2d(filters[1], filters[1+1], kernels[1], stride=strides[1])\n",
    "#         self.conv3 = torch.nn.Conv2d(filters[2], filters[2+1], kernels[2], stride=strides[2])\n",
    "        self.conv3 = torch.nn.MaxPool2d(kernels[2], stride=strides[2])\n",
    "        \n",
    "        self.conv4 = torch.nn.Conv2d(filters[2], filters[3+1], kernels[3], stride=strides[3])\n",
    "\n",
    "        self.conv = [self.conv1, self.conv2, self.conv3, self.conv4]\n",
    "        \n",
    "#         for n in range(0,len(kernels)):    \n",
    "#             self.conv.append(\n",
    "#                 torch.nn.Conv2d(filters[n], filters[n+1], kernels[n], stride=strides[n])\n",
    "#             )\n",
    "        \n",
    "        # activation\n",
    "        self.activation = torch.nn.ReLU()\n",
    "        self.softmax = torch.nn.Softmax(dim=1)# after squezze channels are the second, third is position\n",
    "    \n",
    "    \n",
    "    def forward(self, x):\n",
    "        # incoming format: N_batch,Height,Width,channels\n",
    "        # permute to:      N_batch,channels,Height,Width\n",
    "        #with torch.cuda.device(0):\n",
    "            \n",
    "        x = x.permute((0,3,1,2))\n",
    "\n",
    "        x = self.bn(x) \n",
    "\n",
    "\n",
    "        for conv in self.conv[0:-1]:\n",
    "            x = conv(x)\n",
    "            x = self.activation(x)\n",
    "\n",
    "        x = self.conv[-1](x) # last conv \n",
    "\n",
    "        # height dim (1st) is 1, so contract\n",
    "        x = torch.squeeze(x, 2) # [batch, n_filters, 1 vertical, 8 horizontal pos]       \n",
    "\n",
    "        # add 1x1 convolution layer ?\n",
    "\n",
    "        #x = self.softmax(x) # [softmax over n_filters i.e. char probs]\n",
    "        #pdb.set_trace()\n",
    "        \n",
    "        return x\n",
    "    \n",
    "    "
   ]
  },
  {
   "cell_type": "markdown",
   "metadata": {
    "Collapsed": "false"
   },
   "source": [
    "## model test"
   ]
  },
  {
   "cell_type": "code",
   "execution_count": 27,
   "metadata": {
    "Collapsed": "false"
   },
   "outputs": [],
   "source": [
    "#Helper to count params\n",
    "def count_parameters(model):\n",
    "    return sum(p.numel() for p in model.parameters() if p.requires_grad)"
   ]
  },
  {
   "cell_type": "code",
   "execution_count": 28,
   "metadata": {
    "Collapsed": "false"
   },
   "outputs": [],
   "source": [
    "model = OCR_CNN()"
   ]
  },
  {
   "cell_type": "code",
   "execution_count": 29,
   "metadata": {
    "Collapsed": "false"
   },
   "outputs": [
    {
     "data": {
      "text/plain": [
       "206353"
      ]
     },
     "execution_count": 29,
     "metadata": {},
     "output_type": "execute_result"
    }
   ],
   "source": [
    "count_parameters(model)"
   ]
  },
  {
   "cell_type": "code",
   "execution_count": 30,
   "metadata": {
    "Collapsed": "false"
   },
   "outputs": [],
   "source": [
    "# img, text = random_stamp_numbers(char_img)\n",
    "\n",
    "# x = torch.tensor(np.expand_dims(img, axis=0)).cuda()\n",
    "\n",
    "# y = model(x.float())\n",
    "\n",
    "# # %debug\n",
    "\n",
    "# plt.imshow(img)"
   ]
  },
  {
   "cell_type": "code",
   "execution_count": 31,
   "metadata": {
    "Collapsed": "false"
   },
   "outputs": [],
   "source": [
    "# np.argmax(y.cpu().data.numpy()[0], axis=0)"
   ]
  },
  {
   "cell_type": "code",
   "execution_count": 32,
   "metadata": {
    "Collapsed": "false"
   },
   "outputs": [],
   "source": [
    "# plt.imshow(y.cpu().data.numpy()[0])\n",
    "# plt.colorbar()"
   ]
  },
  {
   "cell_type": "markdown",
   "metadata": {
    "Collapsed": "false"
   },
   "source": [
    "## Trainning"
   ]
  },
  {
   "cell_type": "markdown",
   "metadata": {
    "Collapsed": "false"
   },
   "source": [
    "## Display loss"
   ]
  },
  {
   "cell_type": "code",
   "execution_count": 33,
   "metadata": {
    "Collapsed": "false"
   },
   "outputs": [],
   "source": [
    "from IPython import display"
   ]
  },
  {
   "cell_type": "code",
   "execution_count": 34,
   "metadata": {
    "Collapsed": "false"
   },
   "outputs": [],
   "source": [
    "def plot_loss(LOSS, ACC):\n",
    "    '''\n",
    "    Display loss and Error rate\n",
    "    '''\n",
    "    \n",
    "    display.clear_output(wait=True)\n",
    "#     plt.clf()\n",
    "#     try:\n",
    "#         fig.clear()\n",
    "#         plt.close(fig)\n",
    "#     except:\n",
    "#         pass\n",
    "\n",
    "    fig, ax = plt.subplots(1, 2, figsize=(20,10))\n",
    "    ax[0].plot(LOSS)\n",
    "    ax[0].set_title('LOSS')\n",
    "    ax[0].set_xlabel('step')\n",
    "\n",
    "    ax[1].plot(ACC)\n",
    "    ax[1].set_title('ACC')\n",
    "    ax[1].set_xlabel('step')\n",
    "\n",
    "    fig.show()\n",
    "    display.display(fig)\n",
    "    \n",
    "    fig.clear()\n",
    "    plt.close(fig)"
   ]
  },
  {
   "cell_type": "markdown",
   "metadata": {
    "Collapsed": "false"
   },
   "source": [
    "## Train for epoch\n"
   ]
  },
  {
   "cell_type": "code",
   "execution_count": 35,
   "metadata": {
    "Collapsed": "false"
   },
   "outputs": [],
   "source": [
    "loss_fn = torch.nn.CrossEntropyLoss()"
   ]
  },
  {
   "cell_type": "code",
   "execution_count": 36,
   "metadata": {
    "Collapsed": "false"
   },
   "outputs": [],
   "source": [
    "def evaluate_loss(y_gt, y_hat):\n",
    "    '''\n",
    "    model\n",
    "    y_gt \n",
    "    y_hat --- predicted\n",
    "    \n",
    "    y dims: [batch, classes, char_idx]\n",
    "    '''\n",
    "\n",
    "    loss = torch.tensor(0).float().cpu()\n",
    "    \n",
    "    ## eval loss \n",
    "    for char_idx in range(y_hat.shape[2]):\n",
    "        loss = loss + loss_fn(y_hat[:,:,char_idx], torch.argmax(y_gt[:,:,char_idx], axis=1))\n",
    "\n",
    "    return loss\n",
    "\n",
    "def evaluate_acc(y_gt, y_hat):\n",
    "    '''\n",
    "    Average symbol accuracy\n",
    "    '''\n",
    "    got_right = (torch.argmax(y_gt, axis = 1) == torch.argmax(y_hat, axis=1)).float()\n",
    "    return torch.mean(got_right)"
   ]
  },
  {
   "cell_type": "code",
   "execution_count": 37,
   "metadata": {
    "Collapsed": "false"
   },
   "outputs": [],
   "source": [
    "import pdb"
   ]
  },
  {
   "cell_type": "code",
   "execution_count": 38,
   "metadata": {
    "Collapsed": "false"
   },
   "outputs": [],
   "source": [
    "def change_LR(optim, lr):\n",
    "    \n",
    "    for param_group in optim.param_groups:\n",
    "        param_group['lr'] = lr\n",
    "    "
   ]
  },
  {
   "cell_type": "markdown",
   "metadata": {
    "Collapsed": "true"
   },
   "source": [
    "### Estimate LR"
   ]
  },
  {
   "cell_type": "markdown",
   "metadata": {
    "Collapsed": "false"
   },
   "source": [
    "losses = []\n",
    "accuracy = []\n",
    "def estimate_LR(model, optimizer, loader):\n",
    "    '''\n",
    "    Estimate the learning rate using minibatches\n",
    "    file:///C:/Users/Alfonsas/Zotero/storage/MPAGYUMC/nn-learning-rate.html\n",
    "    '''\n",
    "    learning_rates = np.power(10.0, list(range(-10, 1)))\n",
    "    \n",
    "    \n",
    "    n_iter = 0\n",
    "    \n",
    "    for learning_rate in learning_rates:\n",
    "        \n",
    "        change_LR(optimizer, learning_rate)\n",
    "        \n",
    "        n_iter += 1\n",
    "        x, y = next(loader)\n",
    "\n",
    "        optimizer.zero_grad()\n",
    "\n",
    "        y_gt = torch.tensor(y).long().cpu()\n",
    "        y_hat = model(torch.tensor(x).float().cpu())\n",
    "\n",
    "               \n",
    "\n",
    "        # backprop\n",
    "        loss.backward()\n",
    "\n",
    "        # save best model\n",
    "        if len(losses)>0:\n",
    "            #pdb.set_trace()\n",
    "            if loss.cpu().data.numpy() < np.min(losses):\n",
    "                torch.save(model.state_dict(), \"best_model.state_dict\")\n",
    "\n",
    "        # important to append losses hera after saving best model \n",
    "        losses.append(loss.cpu().data.numpy())\n",
    "        \n",
    "        \n",
    "        with torch.no_grad():\n",
    "\n",
    "            # compute train accuracy\n",
    "            acc = evaluate_acc(y_gt, y_hat)\n",
    "            accuracy.append(acc.data.numpy())\n",
    "            #plot_loss(losses, accuracy)\n",
    "\n",
    "            # compute val accuracy\n",
    "            #y_hat_val = model(torch.tensor(x).float().cpu())\n",
    "            #acc_val = \n",
    "\n",
    "        # update model params\n",
    "        optimizer.step()\n",
    "        \n",
    "        # plot\n",
    "        display.clear_output(wait=True)\n",
    "        plt.plot(learning_rates[0:len(losses)], losses)\n",
    "        plt.xscale('log')\n",
    "        plt.yscale('log')\n",
    "        \n",
    "        "
   ]
  },
  {
   "cell_type": "markdown",
   "metadata": {
    "Collapsed": "false"
   },
   "source": [
    "### Train"
   ]
  },
  {
   "cell_type": "code",
   "execution_count": 41,
   "metadata": {
    "Collapsed": "false"
   },
   "outputs": [],
   "source": [
    "from torch.nn.functional import ctc_loss"
   ]
  },
  {
   "cell_type": "code",
   "execution_count": 60,
   "metadata": {
    "Collapsed": "false"
   },
   "outputs": [],
   "source": [
    "losses = []\n",
    "accuracy = []\n",
    "\n",
    "def train_for_epoch(model, optimizer, loader):\n",
    "    '''\n",
    "    model --- the model\n",
    "    loader: for X, Y in loader:\n",
    "    optimizer:\n",
    "        optimizer.zero_grad()\n",
    "        loss.backward()\n",
    "        optimizer.step()\n",
    "\n",
    "    return avg_loss / len(loader)\n",
    "    '''\n",
    "    model.train()\n",
    "    epoch_size = 100\n",
    "    \n",
    "    #losses = []\n",
    "    \n",
    "    for n_iter in range(epoch_size):\n",
    "        x, y = next(loader)\n",
    "        \n",
    "        optimizer.zero_grad()\n",
    "        \n",
    "        y_gt = torch.tensor(y).long().cpu()\n",
    "        \n",
    "        \n",
    "        # [batch, n_filters, horizontal_pos]\n",
    "        y_hat = model(torch.tensor(x).float().cpu())\n",
    "        \n",
    "        n_batches, n_character_classes, n_characters = y_hat.shape\n",
    "        \n",
    "        # make sequence dimension the first\n",
    "        y_hat = torch.transpose(y_hat, 0, 2) \n",
    "        y_hat = torch.transpose(y_hat, 1, 2) \n",
    "        # [horizontal_pos, batch, n_filters]\n",
    "        \n",
    "        #  ---------------------- train loss ---------------------\n",
    "        # loss = evaluate_loss(y_gt, y_hat)\n",
    "        \n",
    "        # batch, character_class, sequence_element_number\n",
    "        y_gt = torch.argmax( y_gt[:, :, :], axis=1 )\n",
    "        \n",
    "        #pdb.set_trace()\n",
    "        \n",
    "        input_lengths  = torch.full( (n_batches,), n_characters, dtype=torch.long)\n",
    "        target_lengths = torch.full( (n_batches,), n_characters-1, dtype=torch.long)\n",
    "        \n",
    "        loss = ctc_loss(\n",
    "                    y_hat, y_gt, \n",
    "                    input_lengths, \n",
    "                    target_lengths,\n",
    "                    blank=10 # label 10 is blank\n",
    "                )\n",
    "        # --------------------------------------------------------\n",
    "                \n",
    "        # backprop\n",
    "        loss.backward()\n",
    "        \n",
    "        # save best model\n",
    "        if len(losses)>0:\n",
    "            #pdb.set_trace()\n",
    "            if loss.cpu().data.numpy() < np.min(losses):\n",
    "                torch.save(model.state_dict(), \"best_model.state_dict\")\n",
    "        \n",
    "        # important to append losses hera after saving best model \n",
    "        losses.append(loss.cpu().data.numpy())\n",
    "        \n",
    "        \n",
    "        with torch.no_grad():\n",
    "        \n",
    "            # compute train accuracy\n",
    "            #acc = evaluate_acc(y_gt, y_hat).data.numpy()\n",
    "            accuracy.append(np.nan )\n",
    "            plot_loss(losses, accuracy)\n",
    "            \n",
    "            # compute val accuracy\n",
    "            #y_hat_val = model(torch.tensor(x).float().cpu())\n",
    "            #acc_val = \n",
    "        \n",
    "        \n",
    "        # update model params\n",
    "        optimizer.step()\n",
    "    \n",
    "    return "
   ]
  },
  {
   "cell_type": "code",
   "execution_count": 61,
   "metadata": {
    "Collapsed": "false"
   },
   "outputs": [],
   "source": [
    "model.cpu()\n",
    "\n",
    "from time import time\n",
    "\n",
    "optim = torch.optim.Adam(model.parameters(), lr=1e-4)\n",
    "\n",
    "# model.load_state_dict(torch.load('../input/ocr-cnn-small/best_model.state_dict'))\n",
    "# model.load_state_dict(torch.load('../input/ocr-cnn-small/final_model.state_dict'))"
   ]
  },
  {
   "cell_type": "code",
   "execution_count": 62,
   "metadata": {
    "Collapsed": "false"
   },
   "outputs": [],
   "source": [
    "# losses = []\n",
    "# accuracy = []\n",
    "# gen_train = generator_static(char_img, batch_size = 64)\n",
    "# estimate_LR(model, optim, gen_train)"
   ]
  },
  {
   "cell_type": "code",
   "execution_count": null,
   "metadata": {
    "Collapsed": "false"
   },
   "outputs": [
    {
     "data": {
      "image/png": "[encoded data removed]",
      "text/plain": [
       "<Figure size 1440x720 with 2 Axes>"
      ]
     },
     "metadata": {},
     "output_type": "display_data"
    }
   ],
   "source": [
    "\n",
    "\n",
    "t1=time()\n",
    "\n",
    "for epoch in range(64):\n",
    "    if time() - t1 > 60*60*6:\n",
    "        break;\n",
    "        \n",
    "    for param_group in optim.param_groups:\n",
    "        param_group['lr'] = [1e-7, 1e-8, 1e-9][epoch % 3]\n",
    "#         param_group['lr'] = [1e-4, 1e-4, 1e-4, 1e-5, 1e-5, 1e-5, 1e-6][epoch % 7] # cycle\n",
    "        \n",
    "    gen_train = generator_static(char_img, batch_size = 64)\n",
    "    \n",
    "    train_for_epoch(model, optim, gen_train)"
   ]
  },
  {
   "cell_type": "code",
   "execution_count": 59,
   "metadata": {
    "Collapsed": "false"
   },
   "outputs": [
    {
     "name": "stdout",
     "output_type": "stream",
     "text": [
      "> <ipython-input-55-96c48d3e3786>(74)train_for_epoch()\n",
      "     72             # compute train accuracy\n",
      "     73             acc = np.nan# evaluate_acc(y_gt, y_hat)\n",
      "---> 74             accuracy.append(acc.data.numpy())\n",
      "     75             plot_loss(losses, accuracy)\n",
      "     76 \n",
      "\n"
     ]
    },
    {
     "name": "stdin",
     "output_type": "stream",
     "text": [
      "ipdb>  exit\n"
     ]
    }
   ],
   "source": [
    "#%debug"
   ]
  },
  {
   "cell_type": "code",
   "execution_count": null,
   "metadata": {
    "Collapsed": "false"
   },
   "outputs": [],
   "source": [
    "# optim = torch.optim.Adam(model.parameters(), lr=1e-6)"
   ]
  },
  {
   "cell_type": "code",
   "execution_count": null,
   "metadata": {
    "Collapsed": "false"
   },
   "outputs": [],
   "source": [
    "torch.save(model.state_dict(), \"final_model.state_dict\")"
   ]
  },
  {
   "cell_type": "code",
   "execution_count": null,
   "metadata": {
    "Collapsed": "false"
   },
   "outputs": [],
   "source": [
    "\n",
    "# for epochs in range(12):\n",
    "    \n",
    "#     gen_train = generator_static(char_img, batch_size = 64)\n",
    "#     train_for_epoch(model, optim, gen_train)"
   ]
  }
 ],
 "metadata": {
  "kernelspec": {
   "display_name": "Python 3",
   "language": "python",
   "name": "python3"
  },
  "language_info": {
   "codemirror_mode": {
    "name": "ipython",
    "version": 3
   },
   "file_extension": ".py",
   "mimetype": "text/x-python",
   "name": "python",
   "nbconvert_exporter": "python",
   "pygments_lexer": "ipython3",
   "version": "3.7.3"
  }
 },
 "nbformat": 4,
 "nbformat_minor": 4
}
